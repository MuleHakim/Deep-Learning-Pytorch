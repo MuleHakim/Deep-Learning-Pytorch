{
  "nbformat": 4,
  "nbformat_minor": 0,
  "metadata": {
    "colab": {
      "provenance": [],
      "authorship_tag": "ABX9TyM7OMnt8bZIh4rLqQ9PBbPY",
      "include_colab_link": true
    },
    "kernelspec": {
      "name": "python3",
      "display_name": "Python 3"
    },
    "language_info": {
      "name": "python"
    }
  },
  "cells": [
    {
      "cell_type": "markdown",
      "metadata": {
        "id": "view-in-github",
        "colab_type": "text"
      },
      "source": [
        "<a href=\"https://colab.research.google.com/github/MuleHakim/Deep-Learning-Pytorch/blob/main/Deep_learning_Lab_4.ipynb\" target=\"_parent\"><img src=\"https://colab.research.google.com/assets/colab-badge.svg\" alt=\"Open In Colab\"/></a>"
      ]
    },
    {
      "cell_type": "code",
      "execution_count": 80,
      "metadata": {
        "id": "o6yvU3hDhE0G"
      },
      "outputs": [],
      "source": [
        "# import torch\n",
        "import torch"
      ]
    },
    {
      "cell_type": "markdown",
      "source": [
        "# Creating Layers"
      ],
      "metadata": {
        "id": "mqaLZ2qGEHZu"
      }
    },
    {
      "cell_type": "code",
      "source": [
        "# creating layers\n",
        "\n",
        "class DenseLayer:\n",
        "  # Layer initialization with random weights and zero biases\n",
        "  def __init__(self, n_inputs, n_neurons):\n",
        "    # Initialize weights and biases\n",
        "    self.weights = 0.01 * torch.rand(n_inputs, n_neurons)\n",
        "    self.biases = torch.zeros((1, n_neurons))\n",
        "\n",
        "  # Forward pass\n",
        "  def forward(self, inputs):\n",
        "    # Calculate output values from inputs, weights and biases\n",
        "    self.output = torch.matmul(inputs, self.weights) + self.biases\n"
      ],
      "metadata": {
        "id": "DdX6RXw-hMcs"
      },
      "execution_count": 81,
      "outputs": []
    },
    {
      "cell_type": "markdown",
      "source": [
        "# Activations Functions\n",
        "ReLU, Sigmoid, and Linear"
      ],
      "metadata": {
        "id": "6Klrrk74EgxZ"
      }
    },
    {
      "cell_type": "markdown",
      "source": [
        "## ReLu"
      ],
      "metadata": {
        "id": "tb86fJogEkPk"
      }
    },
    {
      "cell_type": "code",
      "source": [
        "# relu\n",
        "class Activation_ReLU:\n",
        "  # Forward pass\n",
        "  def forward(self, inputs):\n",
        "    self.output = torch.max(torch.tensor(0),inputs)"
      ],
      "metadata": {
        "id": "n9H07Rb5hUQI"
      },
      "execution_count": 82,
      "outputs": []
    },
    {
      "cell_type": "markdown",
      "source": [
        "## Sigmoid"
      ],
      "metadata": {
        "id": "bogbEA1yE3-1"
      }
    },
    {
      "cell_type": "code",
      "source": [
        "# sigmoid\n",
        "class Activation_Sigmoid:\n",
        "  # Forward pass\n",
        "  def forward(self, inputs):\n",
        "    self.output = 1 / (1 + torch.exp(inputs*-1))\n"
      ],
      "metadata": {
        "id": "-kw0RvtghW8J"
      },
      "execution_count": 83,
      "outputs": []
    },
    {
      "cell_type": "markdown",
      "source": [
        "## Linear Activation"
      ],
      "metadata": {
        "id": "bqAQAGoEQB8U"
      }
    },
    {
      "cell_type": "code",
      "source": [
        "# linear activation\n",
        "class LinearActivation:\n",
        "    def forward(self, x):\n",
        "        self.output = x"
      ],
      "metadata": {
        "id": "o6pV8sCOhbKI"
      },
      "execution_count": 84,
      "outputs": []
    },
    {
      "cell_type": "markdown",
      "source": [
        "# Loss"
      ],
      "metadata": {
        "id": "BPQT5aejMpzv"
      }
    },
    {
      "cell_type": "code",
      "source": [
        "class Loss_CategoricalCrossentropy() :\n",
        "  # Forward pass\n",
        "  def forward(self, y_pred, y_true):\n",
        "    samples = len(y_pred)\n",
        "    # Clip data to prevent division by 0\n",
        "    # Clip both sides to not drag mean towards any value\n",
        "    y_pred_clipped = torch.clip(y_pred, 1e-8, 1 - 1e-8)\n",
        "    # only if categorical labels\n",
        "    if len(y_true.shape) == 1:\n",
        "      correct_confidences = y_pred_clipped[range(samples), y_true]\n",
        "    # Mask values - only for one-hot encoded labels\n",
        "    elif len(y_true.shape) == 2:\n",
        "      correct_confidences = torch.sum(y_pred_clipped * y_true, axis=1)\n",
        "    log_loss = -torch.log(correct_confidences)\n",
        "    data_loss = torch.mean(log_loss)\n",
        "    return data_loss"
      ],
      "metadata": {
        "id": "5ZKqjASZMlI1"
      },
      "execution_count": 85,
      "outputs": []
    },
    {
      "cell_type": "markdown",
      "source": [
        "# Accuracy"
      ],
      "metadata": {
        "id": "EgQEjskeMcNB"
      }
    },
    {
      "cell_type": "code",
      "source": [
        "class Accuracy():\n",
        "  def calculate(self, y_pred, y_true):\n",
        "    predictions = torch.argmax(y_pred, axis=1)\n",
        "    if len(y_true.shape) == 2:\n",
        "      y_true = torch.argmax(y_true, axis=1)\n",
        "    accuracy = torch.mean((predictions == y_true).float())\n",
        "    return accuracy"
      ],
      "metadata": {
        "id": "x26oVCTUMMmi"
      },
      "execution_count": 86,
      "outputs": []
    },
    {
      "cell_type": "markdown",
      "source": [
        "# Preparing dataset"
      ],
      "metadata": {
        "id": "3AUNKMcbFqZO"
      }
    },
    {
      "cell_type": "code",
      "source": [
        "# X = torch.abs(torch.rand((2,)))\n",
        "# y = torch.abs(torch.rand((2,)))\n",
        "X = torch.tensor([0.1, 0.5])\n",
        "y = torch.tensor([0.05, 0.95])\n",
        "print(X)\n",
        "print(y)"
      ],
      "metadata": {
        "colab": {
          "base_uri": "https://localhost:8080/"
        },
        "id": "2Xtnc0gZhgDh",
        "outputId": "e3e551dc-642c-4847-f0c0-30faad343024"
      },
      "execution_count": 87,
      "outputs": [
        {
          "output_type": "stream",
          "name": "stdout",
          "text": [
            "tensor([0.1000, 0.5000])\n",
            "tensor([0.0500, 0.9500])\n"
          ]
        }
      ]
    },
    {
      "cell_type": "markdown",
      "source": [
        "# Creating a model"
      ],
      "metadata": {
        "id": "JDkPqBZwFwlD"
      }
    },
    {
      "cell_type": "markdown",
      "source": [
        "### Model construction: Input layer, hidden layer with Sigmoid activation, output layer with linear activation"
      ],
      "metadata": {
        "id": "xXgr-UIFTiZ8"
      }
    },
    {
      "cell_type": "code",
      "source": [
        "# Use 2 features in the input layer, 1 hidden layer with 4 neurons\n",
        "hidden_layer_1 = DenseLayer(2, 4)\n",
        "\n",
        "# Sigmoid activation in the hidden layer.\n",
        "activation1 = Activation_Sigmoid()\n",
        "\n",
        "# An output layer with 2 neurons(output_layer).\n",
        "output_layer = DenseLayer(4, 2)\n",
        "\n",
        "# linear activation in the output layer.\n",
        "activation2 = LinearActivation()"
      ],
      "metadata": {
        "id": "wr4Bf3AqhhuB"
      },
      "execution_count": 88,
      "outputs": []
    },
    {
      "cell_type": "markdown",
      "source": [
        "# Forward pass"
      ],
      "metadata": {
        "id": "3PkNZ03EGEhE"
      }
    },
    {
      "cell_type": "code",
      "source": [
        "# Forward Pass function\n",
        "def forward_pass(X):\n",
        "  hidden_layer_1.forward(X)\n",
        "  activation1.forward(hidden_layer_1.output)\n",
        "  output_layer.forward(activation1.output)\n",
        "  activation2.forward(output_layer.output)\n",
        "  return activation2.output"
      ],
      "metadata": {
        "id": "4VtoTlAEiHjr"
      },
      "execution_count": 89,
      "outputs": []
    },
    {
      "cell_type": "markdown",
      "source": [
        "# Backward Propagation"
      ],
      "metadata": {
        "id": "8QjKDVE4OP5k"
      }
    },
    {
      "cell_type": "code",
      "source": [
        "# Backward propagation\n",
        "\n",
        "def back_prop(fp):\n",
        "    lr = torch.tensor(0.01)\n",
        "\n",
        "    back1 = (fp[0][0] - y[0]) * (1 - fp[0][0]) * fp[0][0]\n",
        "    back2 = (fp[0][1] - y[1]) * (1 - fp[0][1]) * fp[0][1]\n",
        "\n",
        "    output_layer.weights[0][0] -= lr * back1 * activation1.output[0][0]\n",
        "    output_layer.weights[0][1] -= lr * back1 * activation1.output[0][1]\n",
        "    output_layer.weights[1][0] -= lr * back2 * activation1.output[0][0]\n",
        "    output_layer.weights[1][1] -= lr * back2 * activation1.output[0][1]\n",
        "    output_layer.biases[0][0] -= lr * back1\n",
        "    output_layer.biases[0][1] -= lr * back2\n",
        "\n",
        "    for i in range(hidden_layer_1.weights.shape[0]):\n",
        "        hidden_layer_1.weights[i] -= lr * torch.sum(\n",
        "            (back1 * output_layer.weights[:, i] + back2 * output_layer.weights[:, i]) * X[i] *\n",
        "            hidden_layer_1.output * (1 - hidden_layer_1.output)\n",
        "        )\n",
        "\n",
        "    for j in range(hidden_layer_1.biases.shape[1]):\n",
        "        hidden_layer_1.biases[0, j] -= lr * torch.sum(\n",
        "            (back1 * output_layer.weights[j, 0] + back2 * output_layer.weights[j, 1]) *\n",
        "            hidden_layer_1.output[0, j] * (1 - hidden_layer_1.output[0, j])\n",
        "        )\n"
      ],
      "metadata": {
        "id": "uiX6_gOKiLZl"
      },
      "execution_count": 90,
      "outputs": []
    },
    {
      "cell_type": "markdown",
      "source": [
        "# Error Calculation(MSE)"
      ],
      "metadata": {
        "id": "fJbnd8rDQ0be"
      }
    },
    {
      "cell_type": "code",
      "source": [
        "# Error Calculation(MSE)\n",
        "def error_calculation(y_true, y_pred):\n",
        "  return torch.mean(0.5*(y_true - y_pred)**2)\n"
      ],
      "metadata": {
        "id": "UFpzNRmliP7_"
      },
      "execution_count": 91,
      "outputs": []
    },
    {
      "cell_type": "markdown",
      "source": [
        "# Forward and Backward Propagation"
      ],
      "metadata": {
        "id": "qke53pmeRA47"
      }
    },
    {
      "cell_type": "code",
      "source": [
        "# Initializing the target loss and printing the initial loss and prediction\n",
        "\n",
        "loss = 0.0001\n",
        "\n",
        "y_pred = forward_pass(X)\n",
        "err = error_calculation(y, y_pred)\n",
        "print(\"Initial loss:\", err)\n",
        "print(\"Initial prediction:\",y_pred)"
      ],
      "metadata": {
        "colab": {
          "base_uri": "https://localhost:8080/"
        },
        "id": "9_RozguEP0RS",
        "outputId": "de05f195-1a35-449c-a765-8f1e1fe99a19"
      },
      "execution_count": 92,
      "outputs": [
        {
          "output_type": "stream",
          "name": "stdout",
          "text": [
            "Initial loss: tensor(0.2191)\n",
            "Initial prediction: tensor([[0.0111, 0.0146]])\n"
          ]
        }
      ]
    },
    {
      "cell_type": "code",
      "source": [
        "# Training loop with backpropagation until the loss reaches the defined threshold\n",
        "while err > loss:\n",
        "  back_prop(y_pred)\n",
        "  y_pred = forward_pass(X)\n",
        "  err = error_calculation(y, y_pred)\n",
        "\n",
        "# Printing final loss, prediction, and target values\n",
        "print(\"Final loss:\", err)\n",
        "print(\"Final prediction:\",y_pred)\n",
        "print(\"Target value:\",y)"
      ],
      "metadata": {
        "id": "Xxhr8cyTiToO",
        "colab": {
          "base_uri": "https://localhost:8080/"
        },
        "outputId": "877aee54-b237-4ddc-9de4-7282ad2fdcb2"
      },
      "execution_count": 93,
      "outputs": [
        {
          "output_type": "stream",
          "name": "stdout",
          "text": [
            "Final loss: tensor(9.9887e-05)\n",
            "Final prediction: tensor([[0.0636, 0.9353]])\n",
            "Target value: tensor([0.0500, 0.9500])\n"
          ]
        }
      ]
    },
    {
      "cell_type": "markdown",
      "source": [
        "## Thank you!"
      ],
      "metadata": {
        "id": "FdebpSoMRawg"
      }
    }
  ]
}