{
  "nbformat": 4,
  "nbformat_minor": 0,
  "metadata": {
    "colab": {
      "provenance": [],
      "authorship_tag": "ABX9TyO3D55vPyif9x5fm5uJMalc",
      "include_colab_link": true
    },
    "kernelspec": {
      "name": "python3",
      "display_name": "Python 3"
    },
    "language_info": {
      "name": "python"
    }
  },
  "cells": [
    {
      "cell_type": "markdown",
      "metadata": {
        "id": "view-in-github",
        "colab_type": "text"
      },
      "source": [
        "<a href=\"https://colab.research.google.com/github/MuleHakim/Deep-Learning-Pytorch/blob/main/Deep_learning_Lab_3.ipynb\" target=\"_parent\"><img src=\"https://colab.research.google.com/assets/colab-badge.svg\" alt=\"Open In Colab\"/></a>"
      ]
    },
    {
      "cell_type": "code",
      "source": [
        "import torch"
      ],
      "metadata": {
        "id": "B81E5WLyInZv"
      },
      "execution_count": 1,
      "outputs": []
    },
    {
      "cell_type": "code",
      "source": [
        "# Activation functions\n",
        "def Activation_ReLU(inputs):\n",
        "    return torch.maximum(torch.tensor(0, dtype=inputs.dtype), inputs)\n",
        "\n",
        "def Activation_Sigmoid(inputs):\n",
        "    return 1 / (1 + torch.exp(-inputs))\n",
        "\n",
        "def Activation_Softmax(inputs):\n",
        "    exp_values = torch.exp(inputs - torch.max(inputs, dim=1, keepdim=True).values)\n",
        "    return exp_values / torch.sum(exp_values, dim=1, keepdim=True)\n"
      ],
      "metadata": {
        "id": "_zMHdiQOuWgJ"
      },
      "execution_count": 2,
      "outputs": []
    },
    {
      "cell_type": "code",
      "source": [
        "# Dense Layer\n",
        "class DenseLayer:\n",
        "    def __init__(self, features, neurons, activation_function):\n",
        "        self.weights = torch.rand((features, neurons), requires_grad=True)\n",
        "        self.biases = torch.zeros((1, neurons), requires_grad=True)\n",
        "        self.activation_function = activation_function\n",
        "\n",
        "    def forward(self, inputs):\n",
        "        weighted_sum = torch.matmul(inputs, self.weights) + self.biases\n",
        "        self.output = self.activation_function(weighted_sum)"
      ],
      "metadata": {
        "id": "cBSvP0Pl9ejp"
      },
      "execution_count": 3,
      "outputs": []
    },
    {
      "cell_type": "code",
      "source": [
        "# Categorical cross entropy\n",
        "def categorical_crossentropy(y_pred, y_true):\n",
        "    y_pred_clipped = torch.clamp(y_pred, 1e-7, 1 - 1e-7)\n",
        "    log_likelihoods = -torch.sum(y_true * torch.log(y_pred_clipped))\n",
        "    return log_likelihoods\n"
      ],
      "metadata": {
        "id": "gNVNHjiCD9rX"
      },
      "execution_count": 4,
      "outputs": []
    },
    {
      "cell_type": "code",
      "source": [
        "# Pick a manual seed for randomizations\n",
        "torch.manual_seed(97)"
      ],
      "metadata": {
        "colab": {
          "base_uri": "https://localhost:8080/"
        },
        "id": "KUZMKbxdGRvH",
        "outputId": "b10cc185-d11b-4c0e-e713-c48a854fc350"
      },
      "execution_count": 5,
      "outputs": [
        {
          "output_type": "execute_result",
          "data": {
            "text/plain": [
              "<torch._C.Generator at 0x789cfafc4170>"
            ]
          },
          "metadata": {},
          "execution_count": 5
        }
      ]
    },
    {
      "cell_type": "code",
      "source": [
        "# Input layer (4 features)\n",
        "# Hidden layers(3) with each layer containing 18 neurons\n",
        "#  => H1\n",
        "#  => H2\n",
        "#  => H3\n",
        "# output( 3 classes)"
      ],
      "metadata": {
        "id": "hchoCufXPl-A"
      },
      "execution_count": 6,
      "outputs": []
    },
    {
      "cell_type": "markdown",
      "source": [
        "Using ReLU for hidden layers"
      ],
      "metadata": {
        "id": "9xNCs_nIJPOd"
      }
    },
    {
      "cell_type": "code",
      "source": [
        "# Input data\n",
        "input_data = torch.rand((1, 4), requires_grad=True)\n",
        "\n",
        "# target\n",
        "target = torch.tensor([1, 0, 1], dtype=torch.float32, requires_grad=True)"
      ],
      "metadata": {
        "id": "SsuhoCDNK_t-"
      },
      "execution_count": 13,
      "outputs": []
    },
    {
      "cell_type": "code",
      "source": [
        "# hidden layer\n",
        "layer1 = DenseLayer(4, 18, Activation_ReLU)\n",
        "layer2 = DenseLayer(18, 18, Activation_ReLU)\n",
        "layer3 = DenseLayer(18, 18, Activation_ReLU)\n",
        "\n",
        "# output layer\n",
        "output_layer = DenseLayer(18, 3, Activation_Softmax)\n",
        "\n",
        "# forward pass\n",
        "layer1.forward(input_data)\n",
        "layer2.forward(layer1.output)\n",
        "layer3.forward(layer2.output)\n",
        "output_layer.forward(layer3.output)\n",
        "\n",
        "# Output after performing forward pass\n",
        "print(\"Output: \",output_layer.output)\n",
        "\n",
        "# loss and accuracy\n",
        "loss = categorical_crossentropy(output_layer.output, target)\n",
        "accuracy = target == torch.argmax(output_layer.output, dim=1)\n",
        "\n",
        "print(\"Categorical Cross-Entropy Loss:\", loss.item())\n",
        "print(\"Accuracy:\", accuracy)"
      ],
      "metadata": {
        "colab": {
          "base_uri": "https://localhost:8080/"
        },
        "id": "2STSyphYEAwv",
        "outputId": "23950f23-4484-407f-f691-69a8a54439b3"
      },
      "execution_count": 14,
      "outputs": [
        {
          "output_type": "stream",
          "name": "stdout",
          "text": [
            "Output:  tensor([[0., 0., 1.]], grad_fn=<DivBackward0>)\n",
            "Categorical Cross-Entropy Loss: 16.11809539794922\n",
            "Accuracy: tensor([False, False, False])\n"
          ]
        }
      ]
    },
    {
      "cell_type": "markdown",
      "source": [
        "Using Sigmoid for hidden layers"
      ],
      "metadata": {
        "id": "ClLvs_EFJz2A"
      }
    },
    {
      "cell_type": "code",
      "source": [
        "# hidden layers\n",
        "layer1 = DenseLayer(4, 18, Activation_Sigmoid)\n",
        "layer2 = DenseLayer(18, 18, Activation_Sigmoid)\n",
        "layer3 = DenseLayer(18, 18, Activation_Sigmoid)\n",
        "\n",
        "# output layer\n",
        "output_layer = DenseLayer(18, 3, Activation_Softmax)\n",
        "\n",
        "# Forward pass\n",
        "layer1.forward(input_data)\n",
        "layer2.forward(layer1.output)\n",
        "layer3.forward(layer2.output)\n",
        "output_layer.forward(layer3.output)\n",
        "\n",
        "# Output after performing forward pass\n",
        "print(\"Output: \",output_layer.output)\n",
        "\n",
        "# loss and accuracy\n",
        "loss = categorical_crossentropy(output_layer.output, target)\n",
        "accuracy = target == torch.argmax(output_layer.output, dim=1)\n",
        "\n",
        "\n",
        "print(\"Categorical Cross-Entropy Loss:\", loss.item())\n",
        "print(\"Accuracy:\", accuracy)"
      ],
      "metadata": {
        "colab": {
          "base_uri": "https://localhost:8080/"
        },
        "id": "f9fk7XhfECs3",
        "outputId": "fa89d607-89ef-48a6-8670-e6f15c04138c"
      },
      "execution_count": 15,
      "outputs": [
        {
          "output_type": "stream",
          "name": "stdout",
          "text": [
            "Output:  tensor([[0.4120, 0.3013, 0.2866]], grad_fn=<DivBackward0>)\n",
            "Categorical Cross-Entropy Loss: 2.136171340942383\n",
            "Accuracy: tensor([False,  True, False])\n"
          ]
        }
      ]
    },
    {
      "cell_type": "code",
      "source": [],
      "metadata": {
        "id": "cpU4Wg4-KPNY"
      },
      "execution_count": 9,
      "outputs": []
    }
  ]
}